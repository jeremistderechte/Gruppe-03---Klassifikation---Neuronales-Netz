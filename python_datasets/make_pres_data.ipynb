{
 "cells": [
  {
   "cell_type": "code",
   "execution_count": 37,
   "id": "26d9db0a",
   "metadata": {},
   "outputs": [],
   "source": [
    "import pandas as pd\n",
    "import pickle\n",
    "df_data_cleaned = pd.read_csv(\"./python_datasets/cleanend.csv\")[[\"age\", \"sex\", \"payment_type\",\"was_canceled\"]]"
   ]
  },
  {
   "cell_type": "code",
   "execution_count": 38,
   "id": "75f7d203",
   "metadata": {},
   "outputs": [],
   "source": [
    "with open(\"./models/encoder\", \"rb\") as f: \n",
    "    encoder = pickle.load(f) \n",
    "    \n",
    "with open(\"./models/scaler\", \"rb\") as f: \n",
    "    scaler = pickle.load(f) "
   ]
  },
  {
   "cell_type": "code",
   "execution_count": 39,
   "id": "9f733f8b",
   "metadata": {},
   "outputs": [
    {
     "data": {
      "text/html": [
       "<div>\n",
       "<style scoped>\n",
       "    .dataframe tbody tr th:only-of-type {\n",
       "        vertical-align: middle;\n",
       "    }\n",
       "\n",
       "    .dataframe tbody tr th {\n",
       "        vertical-align: top;\n",
       "    }\n",
       "\n",
       "    .dataframe thead th {\n",
       "        text-align: right;\n",
       "    }\n",
       "</style>\n",
       "<table border=\"1\" class=\"dataframe\">\n",
       "  <thead>\n",
       "    <tr style=\"text-align: right;\">\n",
       "      <th></th>\n",
       "      <th>age</th>\n",
       "      <th>sex</th>\n",
       "      <th>payment_type</th>\n",
       "      <th>was_canceled</th>\n",
       "    </tr>\n",
       "  </thead>\n",
       "  <tbody>\n",
       "    <tr>\n",
       "      <th>0</th>\n",
       "      <td>64</td>\n",
       "      <td>0</td>\n",
       "      <td>0</td>\n",
       "      <td>1</td>\n",
       "    </tr>\n",
       "    <tr>\n",
       "      <th>1</th>\n",
       "      <td>49</td>\n",
       "      <td>1</td>\n",
       "      <td>0</td>\n",
       "      <td>1</td>\n",
       "    </tr>\n",
       "    <tr>\n",
       "      <th>2</th>\n",
       "      <td>24</td>\n",
       "      <td>1</td>\n",
       "      <td>1</td>\n",
       "      <td>1</td>\n",
       "    </tr>\n",
       "    <tr>\n",
       "      <th>3</th>\n",
       "      <td>45</td>\n",
       "      <td>0</td>\n",
       "      <td>0</td>\n",
       "      <td>0</td>\n",
       "    </tr>\n",
       "    <tr>\n",
       "      <th>4</th>\n",
       "      <td>45</td>\n",
       "      <td>0</td>\n",
       "      <td>0</td>\n",
       "      <td>0</td>\n",
       "    </tr>\n",
       "    <tr>\n",
       "      <th>...</th>\n",
       "      <td>...</td>\n",
       "      <td>...</td>\n",
       "      <td>...</td>\n",
       "      <td>...</td>\n",
       "    </tr>\n",
       "    <tr>\n",
       "      <th>981</th>\n",
       "      <td>29</td>\n",
       "      <td>1</td>\n",
       "      <td>0</td>\n",
       "      <td>0</td>\n",
       "    </tr>\n",
       "    <tr>\n",
       "      <th>982</th>\n",
       "      <td>84</td>\n",
       "      <td>0</td>\n",
       "      <td>0</td>\n",
       "      <td>0</td>\n",
       "    </tr>\n",
       "    <tr>\n",
       "      <th>983</th>\n",
       "      <td>20</td>\n",
       "      <td>0</td>\n",
       "      <td>0</td>\n",
       "      <td>1</td>\n",
       "    </tr>\n",
       "    <tr>\n",
       "      <th>984</th>\n",
       "      <td>19</td>\n",
       "      <td>0</td>\n",
       "      <td>0</td>\n",
       "      <td>0</td>\n",
       "    </tr>\n",
       "    <tr>\n",
       "      <th>985</th>\n",
       "      <td>24</td>\n",
       "      <td>1</td>\n",
       "      <td>0</td>\n",
       "      <td>0</td>\n",
       "    </tr>\n",
       "  </tbody>\n",
       "</table>\n",
       "<p>986 rows × 4 columns</p>\n",
       "</div>"
      ],
      "text/plain": [
       "     age  sex  payment_type  was_canceled\n",
       "0     64    0             0             1\n",
       "1     49    1             0             1\n",
       "2     24    1             1             1\n",
       "3     45    0             0             0\n",
       "4     45    0             0             0\n",
       "..   ...  ...           ...           ...\n",
       "981   29    1             0             0\n",
       "982   84    0             0             0\n",
       "983   20    0             0             1\n",
       "984   19    0             0             0\n",
       "985   24    1             0             0\n",
       "\n",
       "[986 rows x 4 columns]"
      ]
     },
     "execution_count": 39,
     "metadata": {},
     "output_type": "execute_result"
    }
   ],
   "source": [
    "df_data_cleaned"
   ]
  },
  {
   "cell_type": "code",
   "execution_count": 46,
   "id": "625ae127",
   "metadata": {},
   "outputs": [],
   "source": [
    "scaled_age = scaler.transform(np.asarray(df_data_cleaned[\"age\"]).reshape(-1, 1))\n",
    "scaled_age = scaled_age.reshape(986,)\n",
    "df_data_cleaned[\"age\"] = scaled_age"
   ]
  },
  {
   "cell_type": "code",
   "execution_count": 61,
   "id": "8fff5fb5",
   "metadata": {},
   "outputs": [],
   "source": [
    "hot_encoded_array = encoder.transform(np.asarray(df_data_cleaned[\"payment_type\"]).reshape(len(df_data_cleaned[\"payment_type\"]), 1))\n",
    "\n",
    "df_hot_encoded = pd.DataFrame(hot_encoded_array, columns = ['kreditkarte','bar','check'])\n",
    "df_hot_encoded['age'] = scaled_age\n",
    "df_hot_encoded['sex'] = df_data_cleaned[\"sex\"]\n",
    "df_hot_encoded['was_canceled'] = df_data_cleaned[\"was_canceled\"]"
   ]
  },
  {
   "cell_type": "code",
   "execution_count": 62,
   "id": "59db4e29",
   "metadata": {},
   "outputs": [],
   "source": [
    "df_hot_encoded = df_hot_encoded[[\"age\", \"sex\", \"kreditkarte\", \"bar\", \"check\", \"was_canceled\"]]\n",
    "df_hot_encoded.to_csv(\"for_pres_hot_encoded.csv\")"
   ]
  }
 ],
 "metadata": {
  "kernelspec": {
   "display_name": "Python 3 (ipykernel)",
   "language": "python",
   "name": "python3"
  },
  "language_info": {
   "codemirror_mode": {
    "name": "ipython",
    "version": 3
   },
   "file_extension": ".py",
   "mimetype": "text/x-python",
   "name": "python",
   "nbconvert_exporter": "python",
   "pygments_lexer": "ipython3",
   "version": "3.10.9"
  }
 },
 "nbformat": 4,
 "nbformat_minor": 5
}
